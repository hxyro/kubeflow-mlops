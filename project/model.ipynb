{
 "cells": [
  {
   "cell_type": "markdown",
   "metadata": {
    "id": "c6q8_gU4RClu"
   },
   "source": [
    "# MNIST Digits Dataset"
   ]
  },
  {
   "cell_type": "markdown",
   "metadata": {
    "id": "gRRWy7XpRHbq"
   },
   "source": [
    "## Importing The Data"
   ]
  },
  {
   "cell_type": "code",
   "execution_count": null,
   "metadata": {},
   "outputs": [],
   "source": [
    "def load_data():\n",
    "    from tensorflow import keras\n",
    "    import matplotlib.pyplot as plt\n",
    "    import numpy as np\n",
    "    import os\n",
    "    \"\"\"Load MNIST dataset and save train and test data as files in the file system.\"\"\"\n",
    "    \n",
    "    (x_train, y_train), (x_test, y_test) = keras.datasets.mnist.load_data()\n",
    "    \n",
    "    # check shape of the data\n",
    "    print(\"<==== data shape ====>\")\n",
    "    print(f\"x_train: {x_train.shape} || y_train: {y_train.shape}\")\n",
    "    print(f\"x_test: {x_test.shape} || y_test: {y_test.shape}\")\n",
    "\n",
    "    # visualize  a single data instance\n",
    "    print(\"\\n\\n<==== single data instance ====>\")\n",
    "    print(f\"Number: {y_train[1]}\")\n",
    "        \n",
    "    plt.imshow(x_train[1])\n",
    "    plt.show()\n",
    "    # Create directory to save data files\n",
    "    if not os.path.exists(\"data\"):\n",
    "        os.makedirs(\"data\")\n",
    "\n",
    "    # Save train and test data as files\n",
    "    np.save(\"data/x_train.npy\", x_train)\n",
    "    np.save(\"data/y_train.npy\", y_train)\n",
    "    np.save(\"data/x_test.npy\", x_test)\n",
    "    np.save(\"data/y_test.npy\", y_test)\n"
   ]
  },
  {
   "cell_type": "markdown",
   "metadata": {
    "id": "jygNEJ4dRm3o"
   },
   "source": [
    "## Prepare The Data"
   ]
  },
  {
   "cell_type": "code",
   "execution_count": null,
   "metadata": {
    "colab": {
     "base_uri": "https://localhost:8080/"
    },
    "id": "7B7d7i3uThoq",
    "outputId": "20ca74ea-0844-4a93-c7bd-8e48d454d65d"
   },
   "outputs": [],
   "source": [
    "def prepare_data():\n",
    "    import numpy as np\n",
    "    \"\"\"Reshape the data to have 4D tensor shape (-1, 28, 28, 1).\"\"\"\n",
    "    x_train = np.load(\"data/x_train.npy\")\n",
    "    x_test = np.load(\"data/x_test.npy\")\n",
    "    \n",
    "    x_train = x_train.reshape(-1, 28, 28, 1)\n",
    "    x_test = x_test.reshape(-1, 28, 28, 1)\n",
    "\n",
    "    \"\"\"Normalize the data by dividing it by 255.\"\"\"\n",
    "    x_train = x_train / 255\n",
    "    x_test = x_test / 255\n",
    "\n",
    "    np.save(\"data/x_train.npy\", x_train)\n",
    "    np.save(\"data/x_test.npy\", x_test)"
   ]
  },
  {
   "cell_type": "markdown",
   "metadata": {
    "id": "dOtAx2G9hD2W"
   },
   "source": [
    "## Model Building"
   ]
  },
  {
   "cell_type": "code",
   "execution_count": null,
   "metadata": {
    "colab": {
     "base_uri": "https://localhost:8080/"
    },
    "id": "DI795SvBhGPW",
    "outputId": "b66e6a8c-4dba-4f0d-8675-f5bd9f3ff594"
   },
   "outputs": [],
   "source": [
    "def build_model():\n",
    "    from tensorflow import keras\n",
    "    import numpy as np\n",
    "    import os\n",
    "    \"\"\"Build the model.\"\"\"\n",
    "    model = keras.models.Sequential()\n",
    "    model.add(keras.layers.Conv2D(64, (3, 3), activation='relu', input_shape=(28,28,1)))\n",
    "    model.add(keras.layers.MaxPool2D(2, 2))\n",
    "        \n",
    "    model.add(keras.layers.Conv2D(64, (3, 3), activation='relu'))\n",
    "    model.add(keras.layers.MaxPool2D(2, 2))\n",
    "\n",
    "    model.add(keras.layers.Conv2D(64, (3, 3), activation='relu'))\n",
    "    model.add(keras.layers.MaxPool2D(2, 2))\n",
    "\n",
    "    model.add(keras.layers.Flatten())\n",
    "    model.add(keras.layers.Dense(64, activation='relu'))\n",
    "\n",
    "    model.add(keras.layers.Dense(32, activation='relu'))\n",
    "\n",
    "    model.add(keras.layers.Dense(10, activation='softmax'))\n",
    "    \n",
    "    \"\"\"Compile the model.\"\"\"\n",
    "    model.compile(optimizer=\"adam\", loss=\"sparse_categorical_crossentropy\", metrics=['accuracy'])\n",
    "    \n",
    "    \"\"\"Train the CNN model and save the trained model to the file system.\"\"\"\n",
    "    #load the training dataset\n",
    "    x_train = np.load(\"data/x_train.npy\")\n",
    "    y_train = np.load(\"data/y_train.npy\")\n",
    "    \n",
    "    #train the model\n",
    "    print(f\"\\n<==== model training ====>\")    \n",
    "    model.fit(x=x_train, y=y_train, epochs=1)\n",
    "    \n",
    "    # Save the trained model\n",
    "    if not os.path.exists(\"models\"):\n",
    "        os.makedirs(\"models\")\n",
    "    keras.models.save_model(model, \"models/digits-recognizer\")\n"
   ]
  },
  {
   "cell_type": "code",
   "execution_count": null,
   "metadata": {},
   "outputs": [],
   "source": [
    "def evaluate_model():\n",
    "    from tensorflow import keras\n",
    "    import numpy as np\n",
    "    \"\"\"Load the trained model from the file system and evaluate it.\"\"\"\n",
    "    #load the testing dataset\n",
    "    x_test = np.load(\"data/x_test.npy\")\n",
    "    y_test = np.load(\"data/y_test.npy\")\n",
    "\n",
    "    # Load the trained model\n",
    "    model = keras.models.load_model(\"models/digits-recognizer/\")\n",
    "    print(\"Model loaded from disk.\")\n",
    "\n",
    "    # Evaluate the model\n",
    "    test_loss, test_acc = model.evaluate(x=x_test, y=y_test, verbose=0)\n",
    "    print(f\"Test Loss: {test_loss:.4f} || Test Accuracy: {test_acc:.4f}\")"
   ]
  },
  {
   "cell_type": "code",
   "execution_count": null,
   "metadata": {},
   "outputs": [],
   "source": [
    "load_data()\n",
    "prepare_data()\n",
    "build_model()\n",
    "evaluate_model()"
   ]
  }
 ],
 "metadata": {
  "colab": {
   "collapsed_sections": [],
   "name": "digits-recognizer.ipynb",
   "provenance": []
  },
  "kernelspec": {
   "display_name": "Python 3 (ipykernel)",
   "language": "python",
   "name": "python3"
  },
  "language_info": {
   "codemirror_mode": {
    "name": "ipython",
    "version": 3
   },
   "file_extension": ".py",
   "mimetype": "text/x-python",
   "name": "python",
   "nbconvert_exporter": "python",
   "pygments_lexer": "ipython3",
   "version": "3.8.10"
  }
 },
 "nbformat": 4,
 "nbformat_minor": 4
}
